{
 "cells": [
  {
   "cell_type": "markdown",
   "id": "aeda497f",
   "metadata": {},
   "source": [
    "# PySpark DataFrame Part 2"
   ]
  },
  {
   "cell_type": "code",
   "execution_count": 11,
   "id": "11eb806f",
   "metadata": {},
   "outputs": [],
   "source": [
    "from pyspark.sql import SparkSession"
   ]
  },
  {
   "cell_type": "code",
   "execution_count": 12,
   "id": "d02f8386",
   "metadata": {},
   "outputs": [],
   "source": [
    "spark = SparkSession.builder.appName('Dataframes Part 2').getOrCreate()"
   ]
  },
  {
   "cell_type": "code",
   "execution_count": 3,
   "id": "d87076ff",
   "metadata": {},
   "outputs": [
    {
     "data": {
      "text/html": [
       "\n",
       "            <div>\n",
       "                <p><b>SparkSession - in-memory</b></p>\n",
       "                \n",
       "        <div>\n",
       "            <p><b>SparkContext</b></p>\n",
       "\n",
       "            <p><a href=\"http://host.docker.internal:4041\">Spark UI</a></p>\n",
       "\n",
       "            <dl>\n",
       "              <dt>Version</dt>\n",
       "                <dd><code>v3.5.5</code></dd>\n",
       "              <dt>Master</dt>\n",
       "                <dd><code>local[*]</code></dd>\n",
       "              <dt>AppName</dt>\n",
       "                <dd><code>Dataframes Part 2</code></dd>\n",
       "            </dl>\n",
       "        </div>\n",
       "        \n",
       "            </div>\n",
       "        "
      ],
      "text/plain": [
       "<pyspark.sql.session.SparkSession at 0x1a89ec6d6a0>"
      ]
     },
     "execution_count": 3,
     "metadata": {},
     "output_type": "execute_result"
    }
   ],
   "source": [
    "spark"
   ]
  },
  {
   "cell_type": "code",
   "execution_count": 13,
   "id": "12a6b13d",
   "metadata": {},
   "outputs": [
    {
     "name": "stdout",
     "output_type": "stream",
     "text": [
      "+------------------+------+\n",
      "|             Items|Prices|\n",
      "+------------------+------+\n",
      "|            iPhone|   999|\n",
      "|       Macbook Air|   999|\n",
      "|       Macbook Pro|  1299|\n",
      "|              Ipad|   499|\n",
      "|           Airpods|   299|\n",
      "|Backcover - iPhone|  NULL|\n",
      "|  Backcover - iPad|     5|\n",
      "|   Cover - Airpods|     7|\n",
      "|              NULL|  1499|\n",
      "|              NULL|  NULL|\n",
      "|      MDR Terminal|  2999|\n",
      "+------------------+------+\n",
      "\n"
     ]
    }
   ],
   "source": [
    "df = spark.read.csv('products.csv', header=True, inferSchema=True, mode=\"DROPMALFORMED\")\n",
    "df.show()"
   ]
  },
  {
   "cell_type": "code",
   "execution_count": 14,
   "id": "8829e39d",
   "metadata": {},
   "outputs": [
    {
     "name": "stdout",
     "output_type": "stream",
     "text": [
      "+----------------+------+\n",
      "|           Items|Prices|\n",
      "+----------------+------+\n",
      "|          iPhone|   999|\n",
      "|     Macbook Air|   999|\n",
      "|     Macbook Pro|  1299|\n",
      "|            Ipad|   499|\n",
      "|         Airpods|   299|\n",
      "|Backcover - iPad|     5|\n",
      "| Cover - Airpods|     7|\n",
      "|    MDR Terminal|  2999|\n",
      "+----------------+------+\n",
      "\n"
     ]
    }
   ],
   "source": [
    "df.na.drop().show()"
   ]
  },
  {
   "cell_type": "code",
   "execution_count": 15,
   "id": "233e5ac4",
   "metadata": {},
   "outputs": [
    {
     "name": "stdout",
     "output_type": "stream",
     "text": [
      "+----------------+------+\n",
      "|           Items|Prices|\n",
      "+----------------+------+\n",
      "|          iPhone|   999|\n",
      "|     Macbook Air|   999|\n",
      "|     Macbook Pro|  1299|\n",
      "|            Ipad|   499|\n",
      "|         Airpods|   299|\n",
      "|Backcover - iPad|     5|\n",
      "| Cover - Airpods|     7|\n",
      "|    MDR Terminal|  2999|\n",
      "+----------------+------+\n",
      "\n"
     ]
    }
   ],
   "source": [
    "### how = any | all, threshold = number of non null columns allowed, subset\n",
    "\n",
    "df.na.drop(how=\"any\", thresh=2).show()"
   ]
  },
  {
   "cell_type": "code",
   "execution_count": 16,
   "id": "6d9bd177",
   "metadata": {},
   "outputs": [
    {
     "name": "stdout",
     "output_type": "stream",
     "text": [
      "+------------------+------+\n",
      "|             Items|Prices|\n",
      "+------------------+------+\n",
      "|            iPhone|   999|\n",
      "|       Macbook Air|   999|\n",
      "|       Macbook Pro|  1299|\n",
      "|              Ipad|   499|\n",
      "|           Airpods|   299|\n",
      "|Backcover - iPhone|  NULL|\n",
      "|  Backcover - iPad|     5|\n",
      "|   Cover - Airpods|     7|\n",
      "|      MDR Terminal|  2999|\n",
      "+------------------+------+\n",
      "\n"
     ]
    }
   ],
   "source": [
    "df.na.drop(how=\"any\", subset=['Items']).show()"
   ]
  },
  {
   "cell_type": "code",
   "execution_count": 17,
   "id": "aab88c84",
   "metadata": {},
   "outputs": [
    {
     "name": "stdout",
     "output_type": "stream",
     "text": [
      "+------------------+------+\n",
      "|             Items|Prices|\n",
      "+------------------+------+\n",
      "|            iPhone|   999|\n",
      "|       Macbook Air|   999|\n",
      "|       Macbook Pro|  1299|\n",
      "|              Ipad|   499|\n",
      "|           Airpods|   299|\n",
      "|Backcover - iPhone|     0|\n",
      "|  Backcover - iPad|     5|\n",
      "|   Cover - Airpods|     7|\n",
      "| Product Not Exist|  1499|\n",
      "| Product Not Exist|     0|\n",
      "|      MDR Terminal|  2999|\n",
      "+------------------+------+\n",
      "\n"
     ]
    }
   ],
   "source": [
    "### Replace NULL with an identifier\n",
    "df.na.fill({'Items': 'Product Not Exist', 'Prices': 0}).show()"
   ]
  },
  {
   "cell_type": "code",
   "execution_count": 2,
   "id": "4168b8a0",
   "metadata": {},
   "outputs": [
    {
     "name": "stdout",
     "output_type": "stream",
     "text": [
      "Requirement already satisfied: numpy in c:\\users\\dlp-i516-171\\desktop\\databricks\\.venv\\lib\\site-packages (2.2.5)\n",
      "Note: you may need to restart the kernel to use updated packages.\n"
     ]
    }
   ],
   "source": [
    "%pip install numpy"
   ]
  },
  {
   "cell_type": "code",
   "execution_count": 18,
   "id": "97e98eb7",
   "metadata": {},
   "outputs": [],
   "source": [
    "from pyspark.ml.feature import Imputer"
   ]
  },
  {
   "cell_type": "code",
   "execution_count": 22,
   "id": "8afbb036",
   "metadata": {},
   "outputs": [
    {
     "name": "stdout",
     "output_type": "stream",
     "text": [
      "+------------------+------+--------------+\n",
      "|             Items|Prices|Prices_imputed|\n",
      "+------------------+------+--------------+\n",
      "|            iPhone|   999|           999|\n",
      "|       Macbook Air|   999|           999|\n",
      "|       Macbook Pro|  1299|          1299|\n",
      "|              Ipad|   499|           499|\n",
      "|           Airpods|   299|           299|\n",
      "|Backcover - iPhone|  NULL|           999|\n",
      "|  Backcover - iPad|     5|             5|\n",
      "|   Cover - Airpods|     7|             7|\n",
      "|              NULL|  1499|          1499|\n",
      "|              NULL|  NULL|           999|\n",
      "|      MDR Terminal|  2999|          2999|\n",
      "+------------------+------+--------------+\n",
      "\n"
     ]
    }
   ],
   "source": [
    "imputer = Imputer(\n",
    "    inputCols = ['Prices'],\n",
    "    outputCols = [\"{}_imputed\".format(c) for c in ['Prices']]\n",
    ").setStrategy(\"median\")\n",
    "imputer.fit(df).transform(df).show()"
   ]
  },
  {
   "cell_type": "code",
   "execution_count": null,
   "id": "a73edbb7",
   "metadata": {},
   "outputs": [],
   "source": []
  }
 ],
 "metadata": {
  "kernelspec": {
   "display_name": ".venv",
   "language": "python",
   "name": "python3"
  },
  "language_info": {
   "codemirror_mode": {
    "name": "ipython",
    "version": 3
   },
   "file_extension": ".py",
   "mimetype": "text/x-python",
   "name": "python",
   "nbconvert_exporter": "python",
   "pygments_lexer": "ipython3",
   "version": "3.13.3"
  }
 },
 "nbformat": 4,
 "nbformat_minor": 5
}
