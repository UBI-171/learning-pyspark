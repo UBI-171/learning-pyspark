{
 "cells": [
  {
   "cell_type": "markdown",
   "id": "13e8523f",
   "metadata": {},
   "source": [
    "# PySpark DataFrames Part 1"
   ]
  },
  {
   "cell_type": "code",
   "execution_count": 1,
   "id": "599d140a",
   "metadata": {},
   "outputs": [
    {
     "name": "stdout",
     "output_type": "stream",
     "text": [
      "Requirement already satisfied: pyspark in c:\\users\\dlp-i516-171\\desktop\\databricks\\.venv\\lib\\site-packages (3.5.5)\n",
      "Requirement already satisfied: py4j==0.10.9.7 in c:\\users\\dlp-i516-171\\desktop\\databricks\\.venv\\lib\\site-packages (from pyspark) (0.10.9.7)\n",
      "Note: you may need to restart the kernel to use updated packages.\n"
     ]
    }
   ],
   "source": [
    "%pip install pyspark"
   ]
  },
  {
   "cell_type": "code",
   "execution_count": null,
   "id": "6a6c3396",
   "metadata": {},
   "outputs": [],
   "source": [
    "from pyspark.sql import SparkSession"
   ]
  },
  {
   "cell_type": "code",
   "execution_count": 3,
   "id": "82a79e57",
   "metadata": {},
   "outputs": [],
   "source": [
    "spark = SparkSession.builder.appName('Dataframe').getOrCreate()"
   ]
  },
  {
   "cell_type": "code",
   "execution_count": 4,
   "id": "a1b61151",
   "metadata": {},
   "outputs": [
    {
     "data": {
      "text/html": [
       "\n",
       "            <div>\n",
       "                <p><b>SparkSession - in-memory</b></p>\n",
       "                \n",
       "        <div>\n",
       "            <p><b>SparkContext</b></p>\n",
       "\n",
       "            <p><a href=\"http://host.docker.internal:4040\">Spark UI</a></p>\n",
       "\n",
       "            <dl>\n",
       "              <dt>Version</dt>\n",
       "                <dd><code>v3.5.5</code></dd>\n",
       "              <dt>Master</dt>\n",
       "                <dd><code>local[*]</code></dd>\n",
       "              <dt>AppName</dt>\n",
       "                <dd><code>Dataframe</code></dd>\n",
       "            </dl>\n",
       "        </div>\n",
       "        \n",
       "            </div>\n",
       "        "
      ],
      "text/plain": [
       "<pyspark.sql.session.SparkSession at 0x179ac131550>"
      ]
     },
     "execution_count": 4,
     "metadata": {},
     "output_type": "execute_result"
    }
   ],
   "source": [
    "spark"
   ]
  },
  {
   "cell_type": "code",
   "execution_count": 14,
   "id": "8913c84a",
   "metadata": {},
   "outputs": [],
   "source": [
    "###Read the CSV\n",
    "df_pyspark = spark.read.option('header','true').csv('products.csv', inferSchema = True)"
   ]
  },
  {
   "cell_type": "code",
   "execution_count": 18,
   "id": "ba423012",
   "metadata": {},
   "outputs": [
    {
     "name": "stdout",
     "output_type": "stream",
     "text": [
      "root\n",
      " |-- Items: string (nullable = true)\n",
      " |-- Prices: integer (nullable = true)\n",
      "\n"
     ]
    }
   ],
   "source": [
    "### Check the schema\n",
    "df_pyspark.printSchema()"
   ]
  },
  {
   "cell_type": "code",
   "execution_count": 19,
   "id": "fbe73ba0",
   "metadata": {},
   "outputs": [
    {
     "name": "stdout",
     "output_type": "stream",
     "text": [
      "+-----------+------+\n",
      "|      Items|Prices|\n",
      "+-----------+------+\n",
      "|     iPhone|   999|\n",
      "|Macbook Air|   999|\n",
      "|Macbook Pro|  1299|\n",
      "|       Ipad|   499|\n",
      "+-----------+------+\n",
      "\n"
     ]
    }
   ],
   "source": [
    "df_pyspark = spark.read.csv('products.csv', header=True, inferSchema=True)\n",
    "df_pyspark.show()"
   ]
  },
  {
   "cell_type": "code",
   "execution_count": 20,
   "id": "c320fc71",
   "metadata": {},
   "outputs": [
    {
     "name": "stdout",
     "output_type": "stream",
     "text": [
      "root\n",
      " |-- Items: string (nullable = true)\n",
      " |-- Prices: integer (nullable = true)\n",
      "\n"
     ]
    }
   ],
   "source": [
    "df_pyspark.printSchema()"
   ]
  },
  {
   "cell_type": "code",
   "execution_count": 21,
   "id": "5ac3e4fb",
   "metadata": {},
   "outputs": [
    {
     "data": {
      "text/plain": [
       "pyspark.sql.dataframe.DataFrame"
      ]
     },
     "execution_count": 21,
     "metadata": {},
     "output_type": "execute_result"
    }
   ],
   "source": [
    "type(df_pyspark)"
   ]
  },
  {
   "cell_type": "code",
   "execution_count": 23,
   "id": "02b2303e",
   "metadata": {},
   "outputs": [
    {
     "data": {
      "text/plain": [
       "['Items', 'Prices']"
      ]
     },
     "execution_count": 23,
     "metadata": {},
     "output_type": "execute_result"
    }
   ],
   "source": [
    "df_pyspark.columns"
   ]
  },
  {
   "cell_type": "code",
   "execution_count": 24,
   "id": "1482e980",
   "metadata": {},
   "outputs": [
    {
     "data": {
      "text/plain": [
       "[Row(Items='iPhone', Prices=999),\n",
       " Row(Items='Macbook Air', Prices=999),\n",
       " Row(Items='Macbook Pro', Prices=1299),\n",
       " Row(Items='Ipad', Prices=499)]"
      ]
     },
     "execution_count": 24,
     "metadata": {},
     "output_type": "execute_result"
    }
   ],
   "source": [
    "df_pyspark.head(5)"
   ]
  },
  {
   "cell_type": "code",
   "execution_count": 28,
   "id": "87e62441",
   "metadata": {},
   "outputs": [
    {
     "name": "stdout",
     "output_type": "stream",
     "text": [
      "+-----------+\n",
      "|      Items|\n",
      "+-----------+\n",
      "|     iPhone|\n",
      "|Macbook Air|\n",
      "|Macbook Pro|\n",
      "|       Ipad|\n",
      "+-----------+\n",
      "\n"
     ]
    },
    {
     "data": {
      "text/plain": [
       "pyspark.sql.dataframe.DataFrame"
      ]
     },
     "execution_count": 28,
     "metadata": {},
     "output_type": "execute_result"
    }
   ],
   "source": [
    "items_column = df_pyspark.select('Items')\n",
    "items_column.show()\n",
    "type(items_column)\n"
   ]
  },
  {
   "cell_type": "code",
   "execution_count": 29,
   "id": "f5015b38",
   "metadata": {},
   "outputs": [
    {
     "data": {
      "text/plain": [
       "[('Items', 'string'), ('Prices', 'int')]"
      ]
     },
     "execution_count": 29,
     "metadata": {},
     "output_type": "execute_result"
    }
   ],
   "source": [
    "df_pyspark.dtypes"
   ]
  },
  {
   "cell_type": "code",
   "execution_count": 33,
   "id": "023de9a1",
   "metadata": {},
   "outputs": [
    {
     "name": "stdout",
     "output_type": "stream",
     "text": [
      "DataFrame[summary: string, Items: string, Prices: string] <class 'pyspark.sql.dataframe.DataFrame'>\n",
      "+-------+------+---------------+\n",
      "|summary| Items|         Prices|\n",
      "+-------+------+---------------+\n",
      "|  count|     4|              4|\n",
      "|   mean|  NULL|          949.0|\n",
      "| stddev|  NULL|331.66247903554|\n",
      "|    min|  Ipad|            499|\n",
      "|    max|iPhone|           1299|\n",
      "+-------+------+---------------+\n",
      "\n"
     ]
    }
   ],
   "source": [
    "description = df_pyspark.describe()\n",
    "print(description, type(description))\n",
    "description.show()"
   ]
  },
  {
   "cell_type": "code",
   "execution_count": 36,
   "id": "4cca5b20",
   "metadata": {},
   "outputs": [
    {
     "name": "stdout",
     "output_type": "stream",
     "text": [
      "+-----------+------+------------------+\n",
      "|      Items|Prices| Price During Sale|\n",
      "+-----------+------+------------------+\n",
      "|     iPhone|   999|            849.15|\n",
      "|Macbook Air|   999|            849.15|\n",
      "|Macbook Pro|  1299|1104.1499999999999|\n",
      "|       Ipad|   499|            424.15|\n",
      "+-----------+------+------------------+\n",
      "\n"
     ]
    }
   ],
   "source": [
    "### Adding columns in dataframe\n",
    "\n",
    "df_updated = df_pyspark.withColumn('Price During Sale', df_pyspark['Prices']*0.85)\n",
    "df_updated.show()"
   ]
  },
  {
   "cell_type": "code",
   "execution_count": 40,
   "id": "879c55b9",
   "metadata": {},
   "outputs": [],
   "source": [
    "### Drop the columns\n",
    "\n",
    "df_updated = df_updated.drop('Price During Sale')"
   ]
  },
  {
   "cell_type": "code",
   "execution_count": 41,
   "id": "aaba49db",
   "metadata": {},
   "outputs": [
    {
     "name": "stdout",
     "output_type": "stream",
     "text": [
      "+-----------+------+\n",
      "|      Items|Prices|\n",
      "+-----------+------+\n",
      "|     iPhone|   999|\n",
      "|Macbook Air|   999|\n",
      "|Macbook Pro|  1299|\n",
      "|       Ipad|   499|\n",
      "+-----------+------+\n",
      "\n"
     ]
    }
   ],
   "source": [
    "df_updated.show()"
   ]
  },
  {
   "cell_type": "code",
   "execution_count": 43,
   "id": "ebaf48a2",
   "metadata": {},
   "outputs": [],
   "source": [
    "### Rename the columns\n",
    "\n",
    "df_updated = df_updated.withColumnRenamed('Items', 'Apple Products')"
   ]
  },
  {
   "cell_type": "code",
   "execution_count": 44,
   "id": "866a35c8",
   "metadata": {},
   "outputs": [
    {
     "name": "stdout",
     "output_type": "stream",
     "text": [
      "+--------------+------+\n",
      "|Apple Products|Prices|\n",
      "+--------------+------+\n",
      "|        iPhone|   999|\n",
      "|   Macbook Air|   999|\n",
      "|   Macbook Pro|  1299|\n",
      "|          Ipad|   499|\n",
      "+--------------+------+\n",
      "\n"
     ]
    }
   ],
   "source": [
    "df_updated.show()"
   ]
  },
  {
   "cell_type": "code",
   "execution_count": 45,
   "id": "83272400",
   "metadata": {},
   "outputs": [
    {
     "name": "stdout",
     "output_type": "stream",
     "text": [
      "+-----------+------+\n",
      "|      Items|Prices|\n",
      "+-----------+------+\n",
      "|     iPhone|   999|\n",
      "|Macbook Air|   999|\n",
      "|Macbook Pro|  1299|\n",
      "|       Ipad|   499|\n",
      "+-----------+------+\n",
      "\n"
     ]
    }
   ],
   "source": [
    "df_pyspark.show()"
   ]
  },
  {
   "cell_type": "code",
   "execution_count": null,
   "id": "31d83365",
   "metadata": {},
   "outputs": [],
   "source": []
  },
  {
   "cell_type": "code",
   "execution_count": null,
   "id": "e59615ac",
   "metadata": {},
   "outputs": [],
   "source": []
  },
  {
   "cell_type": "code",
   "execution_count": null,
   "id": "b8fabe24",
   "metadata": {},
   "outputs": [],
   "source": []
  },
  {
   "cell_type": "code",
   "execution_count": null,
   "id": "597cf0e4",
   "metadata": {},
   "outputs": [],
   "source": []
  }
 ],
 "metadata": {
  "kernelspec": {
   "display_name": ".venv",
   "language": "python",
   "name": "python3"
  },
  "language_info": {
   "codemirror_mode": {
    "name": "ipython",
    "version": 3
   },
   "file_extension": ".py",
   "mimetype": "text/x-python",
   "name": "python",
   "nbconvert_exporter": "python",
   "pygments_lexer": "ipython3",
   "version": "3.13.3"
  }
 },
 "nbformat": 4,
 "nbformat_minor": 5
}
